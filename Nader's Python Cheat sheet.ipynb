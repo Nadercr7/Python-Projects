{
 "cells": [
  {
   "cell_type": "markdown",
   "id": "8de91833-88ab-4ac2-98d3-4164fafb1f2d",
   "metadata": {},
   "source": [
    "### Python Cheat sheet by **Nader Mohamed** OCT 2024\n",
    "\n",
    "#### **About Me**\n",
    "\n",
    "Hello! I'm **Nader**. I am a passionate **Artificial Intelligence (AI) student** currently studying at **Kafrelsheikh University**. I have a strong interest in **AI**, **machine learning**, **competitive programming**, and exploring the vast world of technology. My journey into the field of programming started with learning `C++`, and I have since expanded my skills into `Python` and `Object-Oriented Programming (OOP)`.\n",
    "\n",
    "###### You can find me here : [Nader Mohamed](https://linktr.ee/nader__7)\n",
    "\n",
    "#### **About This Cheat Sheet**\n",
    "Welcome to the **Python Programming Cheat Sheet**! This notebook serves as a comprehensive guide to help you quickly navigate through the fundamental concepts and advanced features of Python programming. Whether you're a beginner starting your journey or an experienced coder looking for quick references, this cheat sheet will be a valuable resource to support your learning and coding efforts.\n",
    "###### **Date**: October 2024\n",
    "\n",
    "#### **What You Will Find**\n",
    "In this cheat sheet, you'll find:\n",
    "\n",
    "- **Basic Python Syntax**: Covering variables, data types, conditionals, and loops.\n",
    "- **Functions**: How to define and call functions, with examples of parameters and return values.\n",
    "- **Modules and Libraries**: A quick overview of essential libraries like `math`.\n",
    "- **Advanced Topics**: Covering list comprehensions, lambda functions, decorators, and more.\n",
    "\n",
    "\n",
    "\n",
    "\n",
    "\n",
    "#### **Why Use This Cheat Sheet?**\n",
    "\n",
    "###### This cheat sheet is designed to:\n",
    "- **Save time**: Quickly access the most important Python concepts without digging through documentation.\n",
    "- **Improve coding skills**: Reinforce key concepts and techniques with simple, easy-to-understand examples.\n",
    "- **Serve as a reference**: Ideal for competitive programmers, students, or anyone looking for quick answers to coding questions.\n",
    "\n",
    "### **How to Use It**\n",
    " 1. **Refer to topics**: Each section provides an explanation of Python concepts, followed by clear code examples that you can run directly in the notebook.\n",
    " 2. **Practice the examples**: Experiment with the provided code and modify it to reinforce your understanding.\n",
    " 3. **Explore advanced topics**: Dive into more complex areas of Python, such as OOP, error handling, and efficient coding techniques.\n",
    "\n",
    "### **Why Python?**\n",
    "Python is a versatile and powerful language, known for its simplicity and readability. It is widely used in various fields, including:\n",
    " - **Artificial Intelligence and Machine Learning**\n",
    " - **Data Science and Data Analysis**\n",
    " - **Web Development**\n",
    " - **Automation**\n",
    " - **Competitive Programming**\n",
    "\n",
    "#### This cheat sheet will guide you through Python’s core capabilities and get you closer to mastering the language!\n",
    "\n",
    "### **Happy Coding!**"
   ]
  },
  {
   "cell_type": "code",
   "execution_count": 81,
   "id": "0a682acb-0dd6-4c28-870a-f24c76af33eb",
   "metadata": {},
   "outputs": [
    {
     "name": "stdout",
     "output_type": "stream",
     "text": [
      "Hello! My name is Nader Mohamed.\n",
      "I am 19 years old and currently studying at Kafrelsheikh University in the Faculty of Artificial Intelligence.\n",
      "My interests include: AI, Football, Computers.\n",
      "My skills include: C++, Python, Microsoft Office, Object-Oriented Programming, Problem Solving.\n"
     ]
    }
   ],
   "source": [
    "class NaderMohamed:\n",
    "    def __init__(self):\n",
    "        self.name = \"Nader Mohamed\"\n",
    "        self.age = 19\n",
    "        self.university = \"Kafrelsheikh University\"\n",
    "        self.faculty = \"Faculty of Artificial Intelligence\"\n",
    "        self.interests = [\"AI\", \"Football\", \"Computers\"]\n",
    "        self.skills = [\"C++\", \"Python\", \"Microsoft Office\", \"Object-Oriented Programming\", \"Problem Solving\"]\n",
    "\n",
    "    def introduce(self):\n",
    "        print(f\"Hello! My name is {self.name}.\")\n",
    "        print(f\"I am {self.age} years old and currently studying at {self.university} in the {self.faculty}.\")\n",
    "        print(f\"My interests include: {', '.join(self.interests)}.\")\n",
    "        print(f\"My skills include: {', '.join(self.skills)}.\")\n",
    "if __name__ == \"__main__\":\n",
    "    nader = NaderMohamed()\n",
    "    nader.introduce()\n"
   ]
  },
  {
   "cell_type": "markdown",
   "id": "f75b03be-a0a9-4432-822c-1f982a0cfffb",
   "metadata": {},
   "source": [
    "# **Python Cheat Sheet with Explanations and Examples :-**"
   ]
  },
  {
   "cell_type": "markdown",
   "id": "41f2fb46-ae46-4cd5-999b-81ca6513a44c",
   "metadata": {},
   "source": [
    "## **1. Basic Syntax & Variables**"
   ]
  },
  {
   "cell_type": "markdown",
   "id": "c5b85d9a-8114-4b19-adc4-1f1b4bb7ec0e",
   "metadata": {},
   "source": [
    "### **Comments:**  \n",
    "#### Comments are used to explain code or prevent execution.\n",
    "\n",
    "##### `# Single-line comment`\n",
    "##### `\"\"\" Multi-line comment \"\"\"`"
   ]
  },
  {
   "cell_type": "code",
   "execution_count": 88,
   "id": "dac72912-2afb-4a14-9060-46d37db06482",
   "metadata": {},
   "outputs": [
    {
     "name": "stdout",
     "output_type": "stream",
     "text": [
      "Hello, World!\n",
      "Hello, World!\n"
     ]
    }
   ],
   "source": [
    "# This is a single-line comment\n",
    "print(\"Hello, World!\")  # This prints 'Hello, World!' to the console\n",
    "\n",
    "\"\"\"\n",
    "This is a multi-line comment.\n",
    "It can span multiple lines.\n",
    "Use it to explain complex logic or provide additional context.\n",
    "\"\"\"\n",
    "print(\"Hello, World!\")\n"
   ]
  },
  {
   "cell_type": "markdown",
   "id": "664e09a3-92ef-49ce-90d3-1d6c69a6116b",
   "metadata": {},
   "source": [
    "### **Variables:**\n",
    "\n",
    "#### Variables store data for processing. Python is dynamically typed, meaning you don’t need to declare the type."
   ]
  },
  {
   "cell_type": "markdown",
   "id": "9fec8319-75ab-4bd3-b70e-e213908c9c33",
   "metadata": {
    "jp-MarkdownHeadingCollapsed": true
   },
   "source": [
    "##### `x = 5           # Integer`\n",
    "##### `y = 3.14        # Float`\n",
    "##### `name = \"Alice\"  # String`\n",
    "##### `flag = True     # Boolean`"
   ]
  },
  {
   "cell_type": "markdown",
   "id": "93878023-40f4-47b5-bbf7-f8a841b287ab",
   "metadata": {},
   "source": [
    "### **Printing:**\n",
    "####   The print() function outputs data to the screen."
   ]
  },
  {
   "cell_type": "code",
   "execution_count": 103,
   "id": "0f4fcc21-2730-4731-90c4-1b6c6b287fcc",
   "metadata": {},
   "outputs": [
    {
     "name": "stdout",
     "output_type": "stream",
     "text": [
      "Hello, World!\n",
      "Value of x: 4\n"
     ]
    }
   ],
   "source": [
    "print(\"Hello, World!\")           # Output: Hello, World!\n",
    "print(f\"Value of x: {x}\")        # Using f-strings to print variables"
   ]
  },
  {
   "cell_type": "markdown",
   "id": "928aadf0-26ff-4e8d-9de7-e0cf6caa9f4e",
   "metadata": {},
   "source": [
    "## **Escape Sequences:**\n",
    "####  Escape sequences allow you to include special characters inside strings that are otherwise hard to express.\n",
    "####  They begin with a backslash\n",
    "`(/)`."
   ]
  },
  {
   "cell_type": "markdown",
   "id": "32032205-a511-4419-82cf-ab798587435d",
   "metadata": {},
   "source": [
    "| Escape Sequence | Meaning           | Example                     |\n",
    "|-----------------|-------------------|-----------------------------|\n",
    "| `\\\\`            | Backslash          | `\"C:\\\\Program Files\\\\\"`      |\n",
    "| `\\'`            | Single Quote       | `\"It\\'s Python!\"`            |\n",
    "| `\\\"`            | Double Quote       | `\"He said, \\\"Hello!\\\"\"`      |\n",
    "| `\\n`            | Newline            | `\"Hello\\nWorld\"`             |\n",
    "| `\\t`            | Horizontal Tab     | `\"Python\\t3\"`                |\n",
    "| `\\r`            | Carriage Return    | `\"123\\r456\"`                 |\n",
    "| `\\b`            | Backspace          | `\"Hello\\bWorld\"`             |"
   ]
  },
  {
   "cell_type": "code",
   "execution_count": 99,
   "id": "40cba01f-5eb5-4ff9-8959-dac2390d7897",
   "metadata": {},
   "outputs": [
    {
     "name": "stdout",
     "output_type": "stream",
     "text": [
      "This is a backslash: C:\\Program Files\\\n",
      "It's a Python example\n",
      "He said, \"Hello!\"\n",
      "Hello\n",
      "World\n",
      "Python\tCheat Sheet\n",
      "ABC45\n",
      "HellWorld\n"
     ]
    }
   ],
   "source": [
    "\n",
    "# Example for Backslash\n",
    "print(\"This is a backslash: C:\\\\Program Files\\\\\")\n",
    "\n",
    "# Example for Single Quote\n",
    "print('It\\'s a Python example')\n",
    "\n",
    "# Example for Double Quote\n",
    "print(\"He said, \\\"Hello!\\\"\")\n",
    "\n",
    "# Example for Newline\n",
    "print(\"Hello\\nWorld\")\n",
    "\n",
    "# Example for Horizontal Tab\n",
    "print(\"Python\\tCheat Sheet\")\n",
    "\n",
    "# Example for Carriage Return (moves the cursor back to the start of the line)\n",
    "print(\"12345\\rABC\")  # ABC45 (overwrites first few characters)\n",
    "\n",
    "# Example for Backspace\n",
    "print(\"Hello\\bWorld\")  # Outputs \"HellWorld\" (backspace removes the 'o')\n",
    "\n"
   ]
  },
  {
   "cell_type": "markdown",
   "id": "1477c3c9-8964-4355-829c-61aded9248a9",
   "metadata": {},
   "source": [
    "## **Indentation in Python:**\n",
    "\n",
    "#### - Indentation defines code blocks: Python uses indentation to define the structure of loops, functions, conditionals, and classes.\n",
    "#### - Standard indentation: Use **4 spaces** for each indentation level.\n",
    "#### - Consistent indentation: All lines within a block must be indented the same amount.\n",
    "\n",
    "## **Common errors**:\n",
    "\n",
    "#### - IndentationError: Raised when indentation is incorrect.\n",
    "#### - TabError: Raised when you mix spaces and tabs in the same block.\n"
   ]
  },
  {
   "cell_type": "code",
   "execution_count": 112,
   "id": "38f02c8b-53f7-4c79-9a3a-4241994cdf4a",
   "metadata": {},
   "outputs": [
    {
     "name": "stdout",
     "output_type": "stream",
     "text": [
      "Proper indentation!\n",
      "Don't forget the indentation!\n"
     ]
    }
   ],
   "source": [
    "# Correct Indentation\n",
    "def my_function():\n",
    "    if True:\n",
    "        print(\"Proper indentation!\")\n",
    "print(\"Proper indentation!\")\n",
    "print(\"Don't forget the indentation!\")"
   ]
  },
  {
   "cell_type": "markdown",
   "id": "16cd3880-5047-4858-988e-6d7099b25660",
   "metadata": {},
   "source": [
    "## **2. Data Types & Typecasting**"
   ]
  },
  {
   "cell_type": "markdown",
   "id": "94e91abf-b24e-432e-9ddf-8ba15f8911a9",
   "metadata": {},
   "source": [
    "### **Common Data Types:**"
   ]
  },
  {
   "cell_type": "markdown",
   "id": "1be62e02-68f1-416e-9db3-7d03a6d6358c",
   "metadata": {},
   "source": [
    "#### int: Integer numbers (whole numbers)\n",
    "#### float: Decimal numbers\n",
    "#### str: Text or sequence of characters\n",
    "#### bool: True/False values"
   ]
  },
  {
   "cell_type": "markdown",
   "id": "c54379a7-23bc-40d5-a8d4-16e79e788ae0",
   "metadata": {},
   "source": [
    "### **Examples:**"
   ]
  },
  {
   "cell_type": "markdown",
   "id": "1bc6e964-14f8-4a71-8fab-51566966cfb0",
   "metadata": {},
   "source": [
    "###### `int_var = 42         # Integer`\n",
    "###### `float_var = 3.14     # Float`\n",
    "###### `str_var = \"Python\"   # String`\n",
    "###### `bool_var = True      # Boolean`\n"
   ]
  },
  {
   "cell_type": "markdown",
   "id": "592ed456-1b25-4051-b576-09419afe5a93",
   "metadata": {},
   "source": [
    "### **Typecasting:**\n",
    "\n",
    "##### You can convert between types using functions like str(), int(), and float()."
   ]
  },
  {
   "cell_type": "markdown",
   "id": "ae208116-3f7c-4515-884a-6465959564ca",
   "metadata": {},
   "source": [
    "###### `x = str(42)          # Converts integer to string -> \"42\"`\n",
    "###### `y = int(\"123\")       # Converts string to integer -> 123`\n",
    "###### `z = float(\"3.14\")    # Converts string to float -> 3.14`\n"
   ]
  },
  {
   "cell_type": "markdown",
   "id": "b23e5717-9de3-49a8-abf0-5648cd7222be",
   "metadata": {},
   "source": [
    "### **Checking the Type:**\n",
    "#####   Use type() to check the type of a variable."
   ]
  },
  {
   "cell_type": "code",
   "execution_count": 84,
   "id": "111266ee-a601-4570-951f-6ffb11e5b19b",
   "metadata": {},
   "outputs": [
    {
     "data": {
      "text/plain": [
       "str"
      ]
     },
     "execution_count": 84,
     "metadata": {},
     "output_type": "execute_result"
    }
   ],
   "source": [
    "x= \"this is a string\"\n",
    "type(x)   # Output: <class 'str'>"
   ]
  },
  {
   "cell_type": "markdown",
   "id": "72a3f5bc-fc10-4e58-8909-79c99c38f949",
   "metadata": {},
   "source": [
    "## **3. Operators**"
   ]
  },
  {
   "cell_type": "markdown",
   "id": "1cc7f7ff-6430-467b-9719-425c9a3c80d9",
   "metadata": {},
   "source": [
    "### **Arithmetic Operators:**"
   ]
  },
  {
   "cell_type": "markdown",
   "id": "e0056dfc-2f56-4e73-a595-7297e5e27c5d",
   "metadata": {},
   "source": [
    "###### `x + y   # Addition`\n",
    "###### `x - y   # Subtraction`\n",
    "###### `x * y   # Multiplication`\n",
    "###### `x / y   # Division`\n",
    "###### `x // y  # floor division (division without remainder)`\n",
    "###### `x ** y  # Exponentiation (power)`\n",
    "###### `x % y   # Modulus (remainder)`  "
   ]
  },
  {
   "cell_type": "code",
   "execution_count": 1,
   "id": "3658779e-23c5-4ad2-ada8-4a332323a7ee",
   "metadata": {},
   "outputs": [
    {
     "name": "stdout",
     "output_type": "stream",
     "text": [
      "12\n",
      "-2\n",
      "35\n",
      "0.7142857142857143\n",
      "0\n",
      "78125\n",
      "5\n"
     ]
    }
   ],
   "source": [
    "x = 5 \n",
    "y = 7\n",
    "\n",
    "print (x + y)  \n",
    "print (x - y) \n",
    "print (x * y) \n",
    "print (x / y)   \n",
    "print (x // y)  \n",
    "print (x ** y)  \n",
    "print (x % y) "
   ]
  },
  {
   "cell_type": "markdown",
   "id": "3c1531b9-6ae3-4a98-98f5-a66854c5625a",
   "metadata": {},
   "source": [
    "### **Comparison Operators:**\n",
    "#####   Used to compare values. The result is always a boolean.."
   ]
  },
  {
   "cell_type": "markdown",
   "id": "9850a907-903f-4094-8b13-93340ec6890f",
   "metadata": {},
   "source": [
    "###### `x == y   # Equal to`\n",
    "###### `x != y   # Not equal to`\n",
    "###### `x > y    # Greater than`\n",
    "###### `x < y    # Less than`\n",
    "###### `x >= y   # Greater than or equal to`\n",
    "###### `x <= y   # Less than or equal to`\n"
   ]
  },
  {
   "cell_type": "markdown",
   "id": "e29e4100-e9eb-4f52-bb31-f7599cfc3840",
   "metadata": {},
   "source": [
    "###### `x and y   # True if both are True`\n",
    "###### `x or y    # True if at least one is True`\n",
    "###### `not x     # Negates the value of x (True becomes False, and vice versa)`"
   ]
  },
  {
   "cell_type": "markdown",
   "id": "40d9620d-3dcf-412a-8d58-cb203a536b70",
   "metadata": {},
   "source": [
    "## **4. Strings**"
   ]
  },
  {
   "cell_type": "markdown",
   "id": "385ede96-c51f-405e-a32c-a7c1662d2892",
   "metadata": {},
   "source": [
    "##### Strings are sequences of characters enclosed in quotes.\n",
    "###### `s1 = 'Nader'`\n",
    "###### `s2 = \"Mohamed\"`\n",
    "###### `s3 = \"\"\"Elsayed\"\"\"`"
   ]
  },
  {
   "cell_type": "markdown",
   "id": "a0f00ff9-a9f0-4acc-a637-6494af23706f",
   "metadata": {},
   "source": [
    "### **Basic Operations:**."
   ]
  },
  {
   "cell_type": "code",
   "execution_count": 118,
   "id": "59851397-9760-4959-8378-61ead540735e",
   "metadata": {},
   "outputs": [
    {
     "name": "stdout",
     "output_type": "stream",
     "text": [
      "Hello Nader\n",
      "11\n",
      "HELLO NADER\n",
      "hello nader\n",
      "Hello World\n"
     ]
    }
   ],
   "source": [
    "s = \"Hello Nader\"\n",
    "print (s)\n",
    "print (len(s))         # Length of the string -> 11\n",
    "print (s.upper())        # Converts to uppercase -> \"HELLO NADER\"\n",
    "print (s.lower())       # Converts to lowercase -> \"hello nader\"\n",
    "new_s = s.replace(\"Nader\",\"World\")  # \"Hello, World!\"\n",
    "print(new_s)"
   ]
  },
  {
   "cell_type": "markdown",
   "id": "1cd519f1-89b5-4285-9c76-ccdaed7043a4",
   "metadata": {},
   "source": [
    "### **String Slicing:**\n",
    "##### Slicing allows you to extract a part of a string."
   ]
  },
  {
   "cell_type": "code",
   "execution_count": 122,
   "id": "1bed8853-4254-48c4-b7b6-6f9adb8244c7",
   "metadata": {},
   "outputs": [
    {
     "name": "stdout",
     "output_type": "stream",
     "text": [
      "N\n",
      "a\n",
      "r\n",
      "ade\n",
      "Nad\n",
      "er\n"
     ]
    }
   ],
   "source": [
    "s = \"Nader\"\n",
    "print (s[0])        # First character -> 'N'\n",
    "print (s[1])        # First character -> 'a'\n",
    "print (s[-1])       # Last character -> 'r'\n",
    "print (s[1:4])      # Substring from index 1 to 3 -> 'ade'\n",
    "print (s[:3])       # First three characters -> 'Nad'\n",
    "print (s[3:])       # From index 3 to end -> 'er'"
   ]
  },
  {
   "cell_type": "markdown",
   "id": "adff31c1-ea73-4b27-a101-0989c5314929",
   "metadata": {},
   "source": [
    "### **String Formatting:**\n",
    "##### Use f-strings to insert variables into strings:"
   ]
  },
  {
   "cell_type": "code",
   "execution_count": 150,
   "id": "19414953-a381-4de3-9bfd-c8a3c0094b0d",
   "metadata": {},
   "outputs": [
    {
     "name": "stdout",
     "output_type": "stream",
     "text": [
      "I am 30 years old.\n"
     ]
    }
   ],
   "source": [
    "age = 30\n",
    "message = f\"I am {age} years old.\"\n",
    "print(message)   # Output: I am 20 years old."
   ]
  },
  {
   "cell_type": "markdown",
   "id": "4ec26378-69ec-439d-ad18-7ee6e6ad41d1",
   "metadata": {},
   "source": [
    "## **5. Lists**\n",
    "##### Lists are used to store multiple items in a single variable."
   ]
  },
  {
   "cell_type": "markdown",
   "id": "d6ec8ac8-a78c-4d3b-953b-e74817701f1c",
   "metadata": {},
   "source": [
    "### **Creating & Modifying:**"
   ]
  },
  {
   "cell_type": "markdown",
   "id": "0efdd194-a568-4613-9830-867ced31a834",
   "metadata": {},
   "source": [
    "##### `numbers = [1, 2, 3, 4]`\n",
    "###### `numbers.append(5)          # Adds element to the end -> [1, 2, 3, 4, 5]`\n",
    "###### `numbers.remove(2)          # Removes the element -> [1, 3, 4, 5]`\n",
    "###### `numbers[0] = 10            # Modifies the first element -> [10, 3, 4, 5]`"
   ]
  },
  {
   "cell_type": "markdown",
   "id": "35b13581-6ec9-43c8-9b30-5fe553a71314",
   "metadata": {},
   "source": [
    "### **List Methods:**"
   ]
  },
  {
   "cell_type": "markdown",
   "id": "ce9315d6-47b1-40a8-8359-24520ec9d0c5",
   "metadata": {},
   "source": [
    "###### `len(numbers)           # Length of list -> 4`\n",
    "###### `numbers.pop()          # Removes and returns the last element -> [10, 3, 4]`\n",
    "###### `numbers.sort()         # Sorts the list -> [3, 4, 10]`\n",
    "###### `numbers.reverse()      # Reverses the list -> [10, 4, 3]`"
   ]
  },
  {
   "cell_type": "markdown",
   "id": "743a0085-7a82-42f5-9b28-2bb8fb03d4db",
   "metadata": {},
   "source": [
    "### **List Slicing:**"
   ]
  },
  {
   "cell_type": "markdown",
   "id": "e4188914-1ef5-47c5-b201-cf3379f9f867",
   "metadata": {},
   "source": [
    "###### `numbers[1:3]    # Slice from index 1 to 2 -> [4, 3]`\n",
    "###### `numbers[:2]     # First two elements -> [10, 4]`\n",
    "###### `numbers[::2]    # Every second element -> [10, 3]`\n"
   ]
  },
  {
   "cell_type": "markdown",
   "id": "f9c5d41b-692f-4a66-a927-6f219e3ac858",
   "metadata": {},
   "source": [
    "## **6. Dictionaries**\n",
    "##### Dictionaries store data in key-value pairs."
   ]
  },
  {
   "cell_type": "markdown",
   "id": "5108202f-5ed1-4c91-91eb-b7d2e3103051",
   "metadata": {},
   "source": [
    "### **Creating & Accessing:**"
   ]
  },
  {
   "cell_type": "code",
   "execution_count": 171,
   "id": "48b454fb-5c43-4e00-974f-8bdcaa75324b",
   "metadata": {},
   "outputs": [
    {
     "name": "stdout",
     "output_type": "stream",
     "text": [
      "John\n",
      "NY\n"
     ]
    }
   ],
   "source": [
    "person = {\"name\": \"John\", \"age\": 30}\n",
    "print(person[\"name\"])   # Access value -> \"John\"\n",
    "person[\"city\"] = \"NY\"   # Add key-value pair\n",
    "print(person[\"city\"])   # Access the new added value -> \"NY\""
   ]
  },
  {
   "cell_type": "markdown",
   "id": "3636e300-0471-4ac5-a89f-ae82dbf050bc",
   "metadata": {},
   "source": [
    "### **Dictionary Methods:**"
   ]
  },
  {
   "cell_type": "code",
   "execution_count": 178,
   "id": "9a3bba7d-e710-4758-b95c-a9bd95eaeaf4",
   "metadata": {},
   "outputs": [
    {
     "name": "stdout",
     "output_type": "stream",
     "text": [
      "dict_keys(['name', 'age', 'city'])\n",
      "dict_values(['John', 30, 'NY'])\n",
      "dict_items([('name', 'John'), ('age', 30), ('city', 'NY')])\n"
     ]
    },
    {
     "data": {
      "text/plain": [
       "'John'"
      ]
     },
     "execution_count": 178,
     "metadata": {},
     "output_type": "execute_result"
    }
   ],
   "source": [
    "print (person.keys())      # Returns all keys -> dict_keys(['name', 'age', 'city'])\n",
    "print (person.values())    # Returns all values -> dict_values(['John', 30, 'NY'])\n",
    "print (person.items())     # Returns all key-value pairs\n",
    "person.get(\"name\") # Safely access value -> \"John\""
   ]
  },
  {
   "cell_type": "markdown",
   "id": "fc3b7d1a-2d32-428e-bf05-34a0e1062f8a",
   "metadata": {},
   "source": [
    "## **7. Conditionals**\n",
    "##### Conditionals control the flow of the program based on certain conditions."
   ]
  },
  {
   "cell_type": "markdown",
   "id": "52e308b9-2512-49a0-bef9-184ba75b034a",
   "metadata": {},
   "source": [
    "### **If-else:**"
   ]
  },
  {
   "cell_type": "code",
   "execution_count": 186,
   "id": "f6f1837f-8a4a-452b-b48f-ce45cc66f4c4",
   "metadata": {},
   "outputs": [
    {
     "name": "stdout",
     "output_type": "stream",
     "text": [
      "x is greater than 5\n"
     ]
    }
   ],
   "source": [
    "x = 6\n",
    "if x > 5:\n",
    "    print(\"x is greater than 5\")\n",
    "elif x == 5:\n",
    "    print(\"x is equal to 5\")\n",
    "else:\n",
    "    print(\"x is less than 5\")\n"
   ]
  },
  {
   "cell_type": "code",
   "execution_count": 48,
   "id": "54ddb1ed-abde-45e3-a804-2a5c2429415d",
   "metadata": {},
   "outputs": [
    {
     "name": "stdout",
     "output_type": "stream",
     "text": [
      "x is equal to 5\n"
     ]
    }
   ],
   "source": [
    "x = 5\n",
    "if x > 5:\n",
    "    print(\"x is greater than 5\")\n",
    "elif x == 5:\n",
    "    print(\"x is equal to 5\")\n",
    "else:\n",
    "    print(\"x is less than 5\")\n"
   ]
  },
  {
   "cell_type": "code",
   "execution_count": 50,
   "id": "25f47671-855f-40c0-bc2e-c5b267931313",
   "metadata": {},
   "outputs": [
    {
     "name": "stdout",
     "output_type": "stream",
     "text": [
      "x is less than 5\n"
     ]
    }
   ],
   "source": [
    "x = 4\n",
    "if x > 5:\n",
    "    print(\"x is greater than 5\")\n",
    "elif x == 5:\n",
    "    print(\"x is equal to 5\")\n",
    "else:\n",
    "    print(\"x is less than 5\")\n"
   ]
  },
  {
   "cell_type": "markdown",
   "id": "7ee8f8fa-718e-4a40-8626-24403ce30d24",
   "metadata": {},
   "source": [
    "### **Ternary Operator:**\n",
    "### `Short if`"
   ]
  },
  {
   "cell_type": "code",
   "execution_count": 191,
   "id": "cff974a1-3be0-4ef1-bd55-f48d831e69f5",
   "metadata": {},
   "outputs": [
    {
     "name": "stdout",
     "output_type": "stream",
     "text": [
      "Positive\n"
     ]
    }
   ],
   "source": [
    "result = \"Positive\" if x > 0 else \"Negative\"\n",
    "print (result)"
   ]
  },
  {
   "cell_type": "markdown",
   "id": "eac6e4ee-6242-463d-a8b1-dee1d320605b",
   "metadata": {},
   "source": [
    "## **8. Loops**"
   ]
  },
  {
   "cell_type": "code",
   "execution_count": 195,
   "id": "7c6cabd9-03ce-4eae-a1be-fb9904cf0395",
   "metadata": {},
   "outputs": [
    {
     "name": "stdout",
     "output_type": "stream",
     "text": [
      "0\n",
      "1\n",
      "2\n",
      "3\n",
      "4\n",
      "apple\n",
      "banana\n"
     ]
    }
   ],
   "source": [
    "for i in range(5):\n",
    "    print(i)        # Output: 0 1 2 3 4\n",
    "\n",
    "for fruit in [\"apple\", \"banana\"]:\n",
    "    print(fruit)    # Output: apple banana\n"
   ]
  },
  {
   "cell_type": "markdown",
   "id": "dd44a403-7288-4ed9-b24b-40f9437028bb",
   "metadata": {},
   "source": [
    "### **While Loop:**\n",
    "##### While loops repeat as long as a condition is True."
   ]
  },
  {
   "cell_type": "code",
   "execution_count": 198,
   "id": "e3694c1d-0473-4a65-9e03-09819d935100",
   "metadata": {},
   "outputs": [
    {
     "name": "stdout",
     "output_type": "stream",
     "text": [
      "5\n",
      "4\n",
      "3\n",
      "2\n",
      "1\n"
     ]
    }
   ],
   "source": [
    "x = 5\n",
    "while x > 0:\n",
    "    print(x)\n",
    "    x -= 1          # Output: 5 4 3 2 1"
   ]
  },
  {
   "cell_type": "markdown",
   "id": "b1ccfc41-6d19-431a-b90b-8ddbf60825d8",
   "metadata": {},
   "source": [
    "### **Loop Control:**"
   ]
  },
  {
   "cell_type": "markdown",
   "id": "b56537c7-c599-4d56-9a40-8d0aa7efa192",
   "metadata": {},
   "source": [
    "###### `break      # Exits the loop`\n",
    "###### `continue   # Skips the current iteration`"
   ]
  },
  {
   "cell_type": "markdown",
   "id": "72ba990c-b524-474e-ad00-0c1fd05d2672",
   "metadata": {},
   "source": [
    "## **9. Functions**\n",
    "##### Functions are reusable blocks of code that perform a specific task."
   ]
  },
  {
   "cell_type": "markdown",
   "id": "37a2da84-ed9d-49c8-bf5e-59c6a483f142",
   "metadata": {},
   "source": [
    "### **Defining & Calling:**"
   ]
  },
  {
   "cell_type": "code",
   "execution_count": 214,
   "id": "4d2b868d-fa70-4bfe-bc1d-f3e8e5842cda",
   "metadata": {},
   "outputs": [
    {
     "name": "stdout",
     "output_type": "stream",
     "text": [
      "Hello, Alice!\n"
     ]
    }
   ],
   "source": [
    "def greet(name):\n",
    "    return f\"Hello, {name}!\"\n",
    "\n",
    "result = greet(\"Alice\")  \n",
    "print (result)            # Output: Hello, Alice!"
   ]
  },
  {
   "cell_type": "markdown",
   "id": "6a4310db-e375-4fff-9680-696464764e9f",
   "metadata": {},
   "source": [
    "### **Default Arguments:**"
   ]
  },
  {
   "cell_type": "code",
   "execution_count": 219,
   "id": "7fb13161-59a4-4a6a-bd29-f6e07ae40272",
   "metadata": {},
   "outputs": [
    {
     "name": "stdout",
     "output_type": "stream",
     "text": [
      "Hello, Guest!\n"
     ]
    }
   ],
   "source": [
    "def greet(name=\"Guest\"):\n",
    "    return f\"Hello, {name}!\"\n",
    "print(greet())    # Output: Hello, Guest!"
   ]
  },
  {
   "cell_type": "markdown",
   "id": "b088d3b3-d3c9-4823-b63b-3285a036941f",
   "metadata": {},
   "source": [
    "### **Lambda Functions:**\n",
    "##### Anonymous functions written in a single line."
   ]
  },
  {
   "cell_type": "code",
   "execution_count": 226,
   "id": "9c0d7b33-5367-4396-b36b-33877c7b1954",
   "metadata": {},
   "outputs": [
    {
     "name": "stdout",
     "output_type": "stream",
     "text": [
      "7\n"
     ]
    }
   ],
   "source": [
    "add = lambda x, y: x + y\n",
    "print(add(3, 4))  # Output: 7"
   ]
  },
  {
   "cell_type": "markdown",
   "id": "120c1c25-fced-4de8-b0d3-9b80bc0c1585",
   "metadata": {},
   "source": [
    "### **Useful, Common Built-in Functions:**"
   ]
  },
  {
   "cell_type": "code",
   "execution_count": 232,
   "id": "8f6fd9ff-fbbc-4c8d-8a7a-76b0bb863d20",
   "metadata": {},
   "outputs": [
    {
     "name": "stdout",
     "output_type": "stream",
     "text": [
      "5\n",
      "3\n",
      "1\n",
      "6\n",
      "3.14\n"
     ]
    }
   ],
   "source": [
    "print (abs(-5))            # Absolute value -> 5\n",
    "print (max([1, 2, 3]))     # Maximum value -> 3\n",
    "print (min([1, 2, 3]))     # Minimum value -> 1\n",
    "print (sum([1, 2, 3]))     # Sum of elements -> 6\n",
    "print (round(3.14159, 2))  # Round to 2 decimal places -> 3.14"
   ]
  },
  {
   "cell_type": "markdown",
   "id": "8d7af407-9ee1-45a9-b5e0-bf10883e774c",
   "metadata": {},
   "source": [
    "## **10. Modules & Importing**\n",
    "#### There's a lot of modules in python that you can use and we will use `math` as an example"
   ]
  },
  {
   "cell_type": "markdown",
   "id": "c3e50cbb-dbcc-4295-9fd2-51b3dda69731",
   "metadata": {},
   "source": [
    "### **Importing & Using:**"
   ]
  },
  {
   "cell_type": "code",
   "execution_count": 45,
   "id": "0f9cf47e-6cc5-417e-9840-4d8cd1003f0e",
   "metadata": {},
   "outputs": [
    {
     "name": "stdout",
     "output_type": "stream",
     "text": [
      "4.0\n",
      "0.49999999999999994\n",
      "3.141592653589793\n",
      "120\n",
      "4\n",
      "2.302585092994046\n",
      "3.0\n",
      "3\n",
      "4\n"
     ]
    }
   ],
   "source": [
    "import math\n",
    "\n",
    "# Print the square root of 16\n",
    "print(math.sqrt(16))  # Output: 4.0\n",
    "\n",
    "# Print the sine of 30 degrees (converted to radians)\n",
    "print(math.sin(math.radians(30)))  # Output: 0.5\n",
    "\n",
    "# Print the value of pi\n",
    "print(math.pi)  # Output: 3.141592653589793\n",
    "\n",
    "# Print the factorial of 5\n",
    "print(math.factorial(5))  # Output: 120\n",
    "\n",
    "# Print the greatest common divisor of 8 and 12\n",
    "print(math.gcd(8, 12))  # Output: 4\n",
    "\n",
    "# Print the natural logarithm `e` of 10\n",
    "print(math.log(10))  # Output: 2.302585092994046\n",
    "\n",
    "# Print the base-10 logarithm of 1000\n",
    "print(math.log10(1000))  # Output: 3.0\n",
    "\n",
    "# Round down the number 3.7\n",
    "print(math.floor(3.7))  # Output: 3\n",
    "\n",
    "# Round up the number 3.3\n",
    "print(math.ceil(3.3))  # Output: 4"
   ]
  },
  {
   "cell_type": "markdown",
   "id": "d6833c93-d3c1-44f4-b2a3-223da52ba611",
   "metadata": {},
   "source": [
    "# **Final Thoughts**\n",
    "\n",
    "#### I’m really happy and proud of this cheat sheet, which is designed as an introductory guide for beginners to get a solid grasp of Python fundamentals. It covers the essential concepts and functions, giving you a strong foundation to build upon.\n",
    "\n",
    "#### **Remember,** this is just the start! Python is an incredibly powerful language, and there's so much more to explore. Keep experimenting with code, try new projects, and dive into the extensive world of Python libraries and modules.\n",
    "\n",
    "#### I hope this guide helps you in your journey as you continue learning and growing. Happy coding, and always stay curious!\n",
    "\n",
    "#### You can find me here : [Nader Mohamed](https://linktr.ee/nader__7)\n",
    "\n",
    "## ***`Nader </>`***"
   ]
  }
 ],
 "metadata": {
  "kernelspec": {
   "display_name": "Python 3",
   "language": "python",
   "name": "python3"
  },
  "language_info": {
   "codemirror_mode": {
    "name": "ipython",
    "version": 3
   },
   "file_extension": ".py",
   "mimetype": "text/x-python",
   "name": "python",
   "nbconvert_exporter": "python",
   "pygments_lexer": "ipython3",
   "version": "3.12.3"
  }
 },
 "nbformat": 4,
 "nbformat_minor": 5
}
