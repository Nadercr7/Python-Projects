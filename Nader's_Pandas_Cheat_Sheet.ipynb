{
 "cells": [
  {
   "cell_type": "markdown",
   "id": "48bc2157-9f44-474d-9f39-f52c07828260",
   "metadata": {},
   "source": [
    "# Pandas Cheat Sheet \n",
    "BY **Nader Mohamed** NOV 2024\n",
    "## About Me\n",
    "\n",
    "I'm **Nader**. I am a passionate **Artificial Intelligence (AI) student** currently studying at **Kafrelsheikh University**. I have a strong interest in **AI**, **machine learning**, **competitive programming**, and exploring the vast world of technology. My journey into the field of programming started with learning `C++`, and I have since expanded my skills into `Python` and `Object-Oriented Programming (OOP)`.\n",
    "\n",
    "###### You can find me here : [Nader Mohamed](https://linktr.ee/nader__7)"
   ]
  },
  {
   "cell_type": "markdown",
   "id": "fa26c04d-ea2c-434e-b67c-411279f52c69",
   "metadata": {},
   "source": [
    "## About This Cheat Sheet\n",
    "Welcome to the Pandas Cheat Sheet! As a data analyst and Python enthusiast, I've created this comprehensive guide to help you master Pandas, Python's powerful data manipulation library. Whether you're starting your journey in data analysis or looking for quick references during your work, this cheat sheet will serve as your go-to resource.\n",
    "\n",
    "## What Makes This Cheat Sheet Special?\n",
    "- **Practical Focus**: Every example is crafted from real-world data analysis scenarios\n",
    "- **Copy-Paste Ready**: All code snippets can be directly used in Jupyter Notebooks\n",
    "- **Progressive Learning**: Starts with basics and builds up to advanced concepts\n",
    "- **Memory Optimization**: Includes tips for handling large datasets efficiently\n",
    "- **Best Practices**: Incorporates pandas coding standards and performance tips\n",
    "\n",
    "## What You'll Find Inside\n",
    "1. **Basic Operations**: Create, read, and manipulate DataFrames and Series\n",
    "2. **Data Cleaning**: Handle missing values, duplicates, and data transformation\n",
    "3. **Data Analysis**: Filter, sort, group, and analyze your data effectively\n",
    "4. **Advanced Features**: Master pivot tables, time series, and complex operations\n",
    "5. **Performance Tips**: Learn how to write efficient and optimized pandas code\n",
    "\n",
    "## How to Use This Cheat Sheet\n",
    "1. **For Beginners**: Start from the top and work your way down\n",
    "2. **For Quick Reference**: Use the section headers to jump to what you need\n",
    "3. **For Practice**: Copy the examples into Jupyter and experiment with them\n",
    "4. **For Projects**: Adapt the code patterns to your specific needs\n",
    "\n",
    "## Why Pandas?\n",
    "Pandas is essential for data analysis in Python because it:\n",
    "- Makes data manipulation intuitive and efficient\n",
    "- Handles large datasets effectively\n",
    "- Integrates well with other data science tools\n",
    "- Provides powerful data analysis features\n",
    "- Is widely used in data science, finance, and analytics\n",
    "\n",
    "## Prerequisites\n",
    "- Basic Python knowledge\n",
    "- Jupyter Notebook installed\n",
    "- Pandas library installed (`pip install pandas`)\n",
    "\n",
    "## How to Get the Most Out of This Guide\n",
    "1. **Active Learning**: Type out the examples yourself\n",
    "2. **Experimentation**: Modify the code to see how it behaves\n",
    "3. **Project Application**: Use these patterns in your own data projects\n",
    "4. **Regular Reference**: Keep coming back as you work with data"
   ]
  },
  {
   "cell_type": "markdown",
   "id": "972f577f-bf47-464b-851a-5dba1acc94ad",
   "metadata": {},
   "source": [
    "## 1. Getting Started with Pandas\n",
    "\n",
    "First, import the necessary libraries:"
   ]
  },
  {
   "cell_type": "code",
   "execution_count": 5,
   "id": "866c8d12-a17e-42ec-99a0-9e96e1a35b41",
   "metadata": {},
   "outputs": [],
   "source": [
    "import pandas as pd"
   ]
  },
  {
   "cell_type": "markdown",
   "id": "58b25737-2db8-40cb-92fd-45446115e79f",
   "metadata": {},
   "source": [
    "## Basic Data Structures"
   ]
  },
  {
   "cell_type": "markdown",
   "id": "a3838ad9-a8ea-4b1e-9d2a-d930d50bb1b2",
   "metadata": {},
   "source": [
    "### 1. Series\n",
    "\n",
    "A Series is similar to a list or a 1D NumPy array but comes with labels (index)."
   ]
  },
  {
   "cell_type": "markdown",
   "id": "7c4a7b71-5625-4bb2-9a14-7c6777fd8436",
   "metadata": {},
   "source": [
    "**Creating a Series**"
   ]
  },
  {
   "cell_type": "code",
   "execution_count": 9,
   "id": "d62f1553-359f-464f-98a1-bb0397b05843",
   "metadata": {},
   "outputs": [
    {
     "name": "stdout",
     "output_type": "stream",
     "text": [
      "0    1\n",
      "1    2\n",
      "2    3\n",
      "3    4\n",
      "dtype: int64\n",
      "a    10\n",
      "b    20\n",
      "c    30\n",
      "dtype: int64\n",
      "x    100\n",
      "y    200\n",
      "z    300\n",
      "dtype: int64\n"
     ]
    }
   ],
   "source": [
    "# From a list\n",
    "s1 = pd.Series([1, 2, 3, 4])\n",
    "print(s1)\n",
    "# From a dictionary\n",
    "s2 = pd.Series({'a': 10, 'b': 20, 'c': 30})\n",
    "print(s2)\n",
    "# With custom indices\n",
    "s3 = pd.Series([100, 200, 300], index=['x', 'y', 'z'])\n",
    "print(s3)"
   ]
  },
  {
   "cell_type": "markdown",
   "id": "fe5d90b1-0d93-4506-9bc4-807e8872a6f0",
   "metadata": {},
   "source": [
    "**Accessing Elements in a Series**"
   ]
  },
  {
   "cell_type": "code",
   "execution_count": 11,
   "id": "7ad7f825-abbc-4ddc-acec-c128077401bf",
   "metadata": {},
   "outputs": [],
   "source": [
    "# By index label\n",
    "value = s3['x']"
   ]
  },
  {
   "cell_type": "markdown",
   "id": "8a45b866-95db-4490-ad00-df1917ee045f",
   "metadata": {},
   "source": [
    "### 2. DataFrame\n",
    "\n",
    "A DataFrame is a 2D table-like data structure with labeled axes (rows and columns)."
   ]
  },
  {
   "cell_type": "markdown",
   "id": "8c345956-c1dc-477c-883a-5cfd3629f4fb",
   "metadata": {},
   "source": [
    "**Creating a DataFrame**"
   ]
  },
  {
   "cell_type": "code",
   "execution_count": 14,
   "id": "d558be62-8eef-4127-980a-240e98231041",
   "metadata": {},
   "outputs": [
    {
     "name": "stdout",
     "output_type": "stream",
     "text": [
      "\n",
      "df:\n",
      "      Name  Age  Salary Department   JoinDate\n",
      "0    Alice   25   50000         HR 2020-01-15\n",
      "1      Bob   30   60000         IT 2019-07-01\n",
      "2  Charlie   35   55000    Finance 2018-03-22\n",
      "3    David   28   45000         HR 2021-06-11\n",
      "4      Eva   29   52000         IT 2020-11-23\n",
      "5    Frank   33   49000    Finance 2017-05-09\n",
      "6    Grace   24   47000  Marketing 2019-09-15\n",
      "7   Hannah   31   61000         IT 2021-02-01\n",
      "8      Ian   27   53000         HR 2018-12-30\n",
      "9     Jack   26   48000  Marketing 2022-04-18\n",
      "\n",
      "List of dictionaries df2:\n",
      "    Name  Age  Salary Department\n",
      "0  Alice   25   50000         HR\n",
      "1    Bob   30   60000         IT\n",
      "2  Grace   24   47000  Marketing\n",
      "\n",
      "NumPy array df3:\n",
      "   Metric1  Metric2  Metric3  Metric4\n",
      "0       18       89       68       24\n",
      "1      100       74       19       78\n",
      "2       68        3       64       78\n",
      "3       30       80       54       15\n",
      "4       87       52       84       84\n",
      "5       33       33       13       60\n",
      "6       65       57       81       82\n",
      "7       55       60       60       49\n",
      "8       44       95       21       41\n",
      "9       21       77       17       82\n"
     ]
    }
   ],
   "source": [
    "import pandas as pd\n",
    "import numpy as np\n",
    "\n",
    "# Expanded dataset\n",
    "data = {\n",
    "    'Name': ['Alice', 'Bob', 'Charlie', 'David', 'Eva', 'Frank', 'Grace', 'Hannah', 'Ian', 'Jack'],\n",
    "    'Age': [25, 30, 35, 28, 29, 33, 24, 31, 27, 26],\n",
    "    'Salary': [50000, 60000, 55000, 45000, 52000, 49000, 47000, 61000, 53000, 48000],\n",
    "    'Department': ['HR', 'IT', 'Finance', 'HR', 'IT', 'Finance', 'Marketing', 'IT', 'HR', 'Marketing'],\n",
    "    'JoinDate': pd.to_datetime([\n",
    "        '2020-01-15', '2019-07-01', '2018-03-22', '2021-06-11', \n",
    "        '2020-11-23', '2017-05-09', '2019-09-15', '2021-02-01', \n",
    "        '2018-12-30', '2022-04-18'\n",
    "    ])\n",
    "}\n",
    "\n",
    "# Create DataFrame\n",
    "df = pd.DataFrame(data)\n",
    "\n",
    "# Additional dataset examples\n",
    "# From a list of dictionaries\n",
    "data2 = [\n",
    "    {'Name': 'Alice', 'Age': 25, 'Salary': 50000, 'Department': 'HR'},\n",
    "    {'Name': 'Bob', 'Age': 30, 'Salary': 60000, 'Department': 'IT'},\n",
    "    {'Name': 'Grace', 'Age': 24, 'Salary': 47000, 'Department': 'Marketing'}\n",
    "]\n",
    "df2 = pd.DataFrame(data2)\n",
    "\n",
    "# From a NumPy array\n",
    "array = np.random.randint(1, 101, size=(10, 4))\n",
    "df3 = pd.DataFrame(array, columns=['Metric1', 'Metric2', 'Metric3', 'Metric4'])\n",
    "\n",
    "# Print all DataFrames\n",
    "print(\"\\ndf:\")\n",
    "print(df)\n",
    "\n",
    "print(\"\\nList of dictionaries df2:\")\n",
    "print(df2)\n",
    "\n",
    "print(\"\\nNumPy array df3:\")\n",
    "print(df3)\n"
   ]
  },
  {
   "cell_type": "markdown",
   "id": "6b69b49a-96c4-4777-95cf-6662c71e9581",
   "metadata": {},
   "source": [
    "## Core Functions and Operations"
   ]
  },
  {
   "cell_type": "markdown",
   "id": "6088d46b-142c-4118-8c52-91adc6b2e353",
   "metadata": {},
   "source": [
    "### 1. Viewing Data"
   ]
  },
  {
   "cell_type": "code",
   "execution_count": 17,
   "id": "63d18479-49b3-47dd-80a5-7618cdd7c9a6",
   "metadata": {},
   "outputs": [
    {
     "name": "stdout",
     "output_type": "stream",
     "text": [
      "<class 'pandas.core.frame.DataFrame'>\n",
      "RangeIndex: 10 entries, 0 to 9\n",
      "Data columns (total 5 columns):\n",
      " #   Column      Non-Null Count  Dtype         \n",
      "---  ------      --------------  -----         \n",
      " 0   Name        10 non-null     object        \n",
      " 1   Age         10 non-null     int64         \n",
      " 2   Salary      10 non-null     int64         \n",
      " 3   Department  10 non-null     object        \n",
      " 4   JoinDate    10 non-null     datetime64[ns]\n",
      "dtypes: datetime64[ns](1), int64(2), object(2)\n",
      "memory usage: 532.0+ bytes\n"
     ]
    },
    {
     "data": {
      "text/html": [
       "<div>\n",
       "<style scoped>\n",
       "    .dataframe tbody tr th:only-of-type {\n",
       "        vertical-align: middle;\n",
       "    }\n",
       "\n",
       "    .dataframe tbody tr th {\n",
       "        vertical-align: top;\n",
       "    }\n",
       "\n",
       "    .dataframe thead th {\n",
       "        text-align: right;\n",
       "    }\n",
       "</style>\n",
       "<table border=\"1\" class=\"dataframe\">\n",
       "  <thead>\n",
       "    <tr style=\"text-align: right;\">\n",
       "      <th></th>\n",
       "      <th>Age</th>\n",
       "      <th>Salary</th>\n",
       "      <th>JoinDate</th>\n",
       "    </tr>\n",
       "  </thead>\n",
       "  <tbody>\n",
       "    <tr>\n",
       "      <th>count</th>\n",
       "      <td>10.000000</td>\n",
       "      <td>10.000000</td>\n",
       "      <td>10</td>\n",
       "    </tr>\n",
       "    <tr>\n",
       "      <th>mean</th>\n",
       "      <td>28.800000</td>\n",
       "      <td>52000.000000</td>\n",
       "      <td>2019-12-14 16:48:00</td>\n",
       "    </tr>\n",
       "    <tr>\n",
       "      <th>min</th>\n",
       "      <td>24.000000</td>\n",
       "      <td>45000.000000</td>\n",
       "      <td>2017-05-09 00:00:00</td>\n",
       "    </tr>\n",
       "    <tr>\n",
       "      <th>25%</th>\n",
       "      <td>26.250000</td>\n",
       "      <td>48250.000000</td>\n",
       "      <td>2019-02-13 18:00:00</td>\n",
       "    </tr>\n",
       "    <tr>\n",
       "      <th>50%</th>\n",
       "      <td>28.500000</td>\n",
       "      <td>51000.000000</td>\n",
       "      <td>2019-11-15 00:00:00</td>\n",
       "    </tr>\n",
       "    <tr>\n",
       "      <th>75%</th>\n",
       "      <td>30.750000</td>\n",
       "      <td>54500.000000</td>\n",
       "      <td>2021-01-14 12:00:00</td>\n",
       "    </tr>\n",
       "    <tr>\n",
       "      <th>max</th>\n",
       "      <td>35.000000</td>\n",
       "      <td>61000.000000</td>\n",
       "      <td>2022-04-18 00:00:00</td>\n",
       "    </tr>\n",
       "    <tr>\n",
       "      <th>std</th>\n",
       "      <td>3.521363</td>\n",
       "      <td>5354.126135</td>\n",
       "      <td>NaN</td>\n",
       "    </tr>\n",
       "  </tbody>\n",
       "</table>\n",
       "</div>"
      ],
      "text/plain": [
       "             Age        Salary             JoinDate\n",
       "count  10.000000     10.000000                   10\n",
       "mean   28.800000  52000.000000  2019-12-14 16:48:00\n",
       "min    24.000000  45000.000000  2017-05-09 00:00:00\n",
       "25%    26.250000  48250.000000  2019-02-13 18:00:00\n",
       "50%    28.500000  51000.000000  2019-11-15 00:00:00\n",
       "75%    30.750000  54500.000000  2021-01-14 12:00:00\n",
       "max    35.000000  61000.000000  2022-04-18 00:00:00\n",
       "std     3.521363   5354.126135                  NaN"
      ]
     },
     "execution_count": 17,
     "metadata": {},
     "output_type": "execute_result"
    }
   ],
   "source": [
    "# Display the first few rows\n",
    "df.head()\n",
    "\n",
    "# Display the last few rows\n",
    "df.tail()\n",
    "\n",
    "# Get the shape (rows, columns)\n",
    "df.shape\n",
    "\n",
    "# Get a summary of the DataFrame\n",
    "df.info()\n",
    "\n",
    "# Get descriptive statistics\n",
    "df.describe()\n"
   ]
  },
  {
   "cell_type": "markdown",
   "id": "fa8eba71-1b48-44de-b888-aa55fe4668f5",
   "metadata": {},
   "source": [
    "### 2. Selecting Data"
   ]
  },
  {
   "cell_type": "markdown",
   "id": "ed4c7d92-20bc-4df5-a34c-1900814be5eb",
   "metadata": {},
   "source": [
    "**Selecting Columns**"
   ]
  },
  {
   "cell_type": "code",
   "execution_count": 20,
   "id": "1b11fa82-3947-4385-9f9f-c1fac68830cd",
   "metadata": {},
   "outputs": [],
   "source": [
    "# Single column (returns a Series)\n",
    "age_column = df['Age']\n",
    "\n",
    "# Multiple columns (returns a DataFrame)\n",
    "subset = df[['Name', 'Salary']]"
   ]
  },
  {
   "cell_type": "markdown",
   "id": "616feb04-f709-4bff-844d-91991280f88b",
   "metadata": {},
   "source": [
    "**Selecting Rows**"
   ]
  },
  {
   "cell_type": "code",
   "execution_count": 22,
   "id": "261f9004-117d-428d-b4a1-cdf23678de17",
   "metadata": {},
   "outputs": [],
   "source": [
    "# By index label\n",
    "row = df.loc[0]\n",
    "\n",
    "# By index position\n",
    "row = df.iloc[1]\n",
    "\n",
    "# Slicing rows\n",
    "subset = df[0:2]"
   ]
  },
  {
   "cell_type": "markdown",
   "id": "69602378-8f7f-4f66-81d1-2577c9968996",
   "metadata": {},
   "source": [
    "**Selecting Specific Values**"
   ]
  },
  {
   "cell_type": "code",
   "execution_count": 24,
   "id": "9e611551-3b63-4fd2-ba50-df0eb9ab0901",
   "metadata": {},
   "outputs": [
    {
     "name": "stdout",
     "output_type": "stream",
     "text": [
      "Alice\n",
      "60000\n"
     ]
    }
   ],
   "source": [
    "value = df.loc[0, 'Name']  # By label\n",
    "print(value)\n",
    "value = df.iloc[1, 2]      # By position\n",
    "print(value)"
   ]
  },
  {
   "cell_type": "markdown",
   "id": "d4481e2c-7e9f-4178-b800-3eb056e7532a",
   "metadata": {},
   "source": [
    "### 3. Modifying Data"
   ]
  },
  {
   "cell_type": "markdown",
   "id": "c9528733-3cd7-4772-9bc0-a4c093168d4f",
   "metadata": {},
   "source": [
    "**Adding Columns**"
   ]
  },
  {
   "cell_type": "code",
   "execution_count": 27,
   "id": "f5843e16-37b0-4d41-a12c-fe922ee19ea2",
   "metadata": {},
   "outputs": [
    {
     "data": {
      "text/html": [
       "<div>\n",
       "<style scoped>\n",
       "    .dataframe tbody tr th:only-of-type {\n",
       "        vertical-align: middle;\n",
       "    }\n",
       "\n",
       "    .dataframe tbody tr th {\n",
       "        vertical-align: top;\n",
       "    }\n",
       "\n",
       "    .dataframe thead th {\n",
       "        text-align: right;\n",
       "    }\n",
       "</style>\n",
       "<table border=\"1\" class=\"dataframe\">\n",
       "  <thead>\n",
       "    <tr style=\"text-align: right;\">\n",
       "      <th></th>\n",
       "      <th>Name</th>\n",
       "      <th>Age</th>\n",
       "      <th>Salary</th>\n",
       "      <th>Department</th>\n",
       "      <th>JoinDate</th>\n",
       "      <th>Bonus</th>\n",
       "    </tr>\n",
       "  </thead>\n",
       "  <tbody>\n",
       "    <tr>\n",
       "      <th>0</th>\n",
       "      <td>Alice</td>\n",
       "      <td>25</td>\n",
       "      <td>50000</td>\n",
       "      <td>HR</td>\n",
       "      <td>2020-01-15</td>\n",
       "      <td>5000</td>\n",
       "    </tr>\n",
       "    <tr>\n",
       "      <th>1</th>\n",
       "      <td>Bob</td>\n",
       "      <td>30</td>\n",
       "      <td>60000</td>\n",
       "      <td>IT</td>\n",
       "      <td>2019-07-01</td>\n",
       "      <td>7000</td>\n",
       "    </tr>\n",
       "    <tr>\n",
       "      <th>2</th>\n",
       "      <td>Charlie</td>\n",
       "      <td>35</td>\n",
       "      <td>55000</td>\n",
       "      <td>Finance</td>\n",
       "      <td>2018-03-22</td>\n",
       "      <td>8000</td>\n",
       "    </tr>\n",
       "    <tr>\n",
       "      <th>3</th>\n",
       "      <td>David</td>\n",
       "      <td>28</td>\n",
       "      <td>45000</td>\n",
       "      <td>HR</td>\n",
       "      <td>2021-06-11</td>\n",
       "      <td>9000</td>\n",
       "    </tr>\n",
       "    <tr>\n",
       "      <th>4</th>\n",
       "      <td>Eva</td>\n",
       "      <td>29</td>\n",
       "      <td>52000</td>\n",
       "      <td>IT</td>\n",
       "      <td>2020-11-23</td>\n",
       "      <td>4000</td>\n",
       "    </tr>\n",
       "    <tr>\n",
       "      <th>5</th>\n",
       "      <td>Frank</td>\n",
       "      <td>33</td>\n",
       "      <td>49000</td>\n",
       "      <td>Finance</td>\n",
       "      <td>2017-05-09</td>\n",
       "      <td>2380</td>\n",
       "    </tr>\n",
       "    <tr>\n",
       "      <th>6</th>\n",
       "      <td>Grace</td>\n",
       "      <td>24</td>\n",
       "      <td>47000</td>\n",
       "      <td>Marketing</td>\n",
       "      <td>2019-09-15</td>\n",
       "      <td>6893</td>\n",
       "    </tr>\n",
       "    <tr>\n",
       "      <th>7</th>\n",
       "      <td>Hannah</td>\n",
       "      <td>31</td>\n",
       "      <td>61000</td>\n",
       "      <td>IT</td>\n",
       "      <td>2021-02-01</td>\n",
       "      <td>2611</td>\n",
       "    </tr>\n",
       "    <tr>\n",
       "      <th>8</th>\n",
       "      <td>Ian</td>\n",
       "      <td>27</td>\n",
       "      <td>53000</td>\n",
       "      <td>HR</td>\n",
       "      <td>2018-12-30</td>\n",
       "      <td>4378</td>\n",
       "    </tr>\n",
       "    <tr>\n",
       "      <th>9</th>\n",
       "      <td>Jack</td>\n",
       "      <td>26</td>\n",
       "      <td>48000</td>\n",
       "      <td>Marketing</td>\n",
       "      <td>2022-04-18</td>\n",
       "      <td>3782</td>\n",
       "    </tr>\n",
       "  </tbody>\n",
       "</table>\n",
       "</div>"
      ],
      "text/plain": [
       "      Name  Age  Salary Department   JoinDate  Bonus\n",
       "0    Alice   25   50000         HR 2020-01-15   5000\n",
       "1      Bob   30   60000         IT 2019-07-01   7000\n",
       "2  Charlie   35   55000    Finance 2018-03-22   8000\n",
       "3    David   28   45000         HR 2021-06-11   9000\n",
       "4      Eva   29   52000         IT 2020-11-23   4000\n",
       "5    Frank   33   49000    Finance 2017-05-09   2380\n",
       "6    Grace   24   47000  Marketing 2019-09-15   6893\n",
       "7   Hannah   31   61000         IT 2021-02-01   2611\n",
       "8      Ian   27   53000         HR 2018-12-30   4378\n",
       "9     Jack   26   48000  Marketing 2022-04-18   3782"
      ]
     },
     "execution_count": 27,
     "metadata": {},
     "output_type": "execute_result"
    }
   ],
   "source": [
    "df['Bonus'] = [5000, 7000, 8000,9000,4000,2380,6893,2611,4378,3782]\n",
    "df"
   ]
  },
  {
   "cell_type": "markdown",
   "id": "8a834744-2687-4ebb-93c0-b0309dd984f6",
   "metadata": {},
   "source": [
    "**Renaming Columns**"
   ]
  },
  {
   "cell_type": "code",
   "execution_count": 29,
   "id": "27f9d5a0-4547-4894-9db7-5e97c4097f78",
   "metadata": {},
   "outputs": [
    {
     "data": {
      "text/html": [
       "<div>\n",
       "<style scoped>\n",
       "    .dataframe tbody tr th:only-of-type {\n",
       "        vertical-align: middle;\n",
       "    }\n",
       "\n",
       "    .dataframe tbody tr th {\n",
       "        vertical-align: top;\n",
       "    }\n",
       "\n",
       "    .dataframe thead th {\n",
       "        text-align: right;\n",
       "    }\n",
       "</style>\n",
       "<table border=\"1\" class=\"dataframe\">\n",
       "  <thead>\n",
       "    <tr style=\"text-align: right;\">\n",
       "      <th></th>\n",
       "      <th>Employee Name</th>\n",
       "      <th>Age</th>\n",
       "      <th>Salary</th>\n",
       "      <th>Department</th>\n",
       "      <th>JoinDate</th>\n",
       "      <th>Bonus</th>\n",
       "    </tr>\n",
       "  </thead>\n",
       "  <tbody>\n",
       "    <tr>\n",
       "      <th>0</th>\n",
       "      <td>Alice</td>\n",
       "      <td>25</td>\n",
       "      <td>50000</td>\n",
       "      <td>HR</td>\n",
       "      <td>2020-01-15</td>\n",
       "      <td>5000</td>\n",
       "    </tr>\n",
       "    <tr>\n",
       "      <th>1</th>\n",
       "      <td>Bob</td>\n",
       "      <td>30</td>\n",
       "      <td>60000</td>\n",
       "      <td>IT</td>\n",
       "      <td>2019-07-01</td>\n",
       "      <td>7000</td>\n",
       "    </tr>\n",
       "    <tr>\n",
       "      <th>2</th>\n",
       "      <td>Charlie</td>\n",
       "      <td>35</td>\n",
       "      <td>55000</td>\n",
       "      <td>Finance</td>\n",
       "      <td>2018-03-22</td>\n",
       "      <td>8000</td>\n",
       "    </tr>\n",
       "    <tr>\n",
       "      <th>3</th>\n",
       "      <td>David</td>\n",
       "      <td>28</td>\n",
       "      <td>45000</td>\n",
       "      <td>HR</td>\n",
       "      <td>2021-06-11</td>\n",
       "      <td>9000</td>\n",
       "    </tr>\n",
       "    <tr>\n",
       "      <th>4</th>\n",
       "      <td>Eva</td>\n",
       "      <td>29</td>\n",
       "      <td>52000</td>\n",
       "      <td>IT</td>\n",
       "      <td>2020-11-23</td>\n",
       "      <td>4000</td>\n",
       "    </tr>\n",
       "    <tr>\n",
       "      <th>5</th>\n",
       "      <td>Frank</td>\n",
       "      <td>33</td>\n",
       "      <td>49000</td>\n",
       "      <td>Finance</td>\n",
       "      <td>2017-05-09</td>\n",
       "      <td>2380</td>\n",
       "    </tr>\n",
       "    <tr>\n",
       "      <th>6</th>\n",
       "      <td>Grace</td>\n",
       "      <td>24</td>\n",
       "      <td>47000</td>\n",
       "      <td>Marketing</td>\n",
       "      <td>2019-09-15</td>\n",
       "      <td>6893</td>\n",
       "    </tr>\n",
       "    <tr>\n",
       "      <th>7</th>\n",
       "      <td>Hannah</td>\n",
       "      <td>31</td>\n",
       "      <td>61000</td>\n",
       "      <td>IT</td>\n",
       "      <td>2021-02-01</td>\n",
       "      <td>2611</td>\n",
       "    </tr>\n",
       "    <tr>\n",
       "      <th>8</th>\n",
       "      <td>Ian</td>\n",
       "      <td>27</td>\n",
       "      <td>53000</td>\n",
       "      <td>HR</td>\n",
       "      <td>2018-12-30</td>\n",
       "      <td>4378</td>\n",
       "    </tr>\n",
       "    <tr>\n",
       "      <th>9</th>\n",
       "      <td>Jack</td>\n",
       "      <td>26</td>\n",
       "      <td>48000</td>\n",
       "      <td>Marketing</td>\n",
       "      <td>2022-04-18</td>\n",
       "      <td>3782</td>\n",
       "    </tr>\n",
       "  </tbody>\n",
       "</table>\n",
       "</div>"
      ],
      "text/plain": [
       "  Employee Name  Age  Salary Department   JoinDate  Bonus\n",
       "0         Alice   25   50000         HR 2020-01-15   5000\n",
       "1           Bob   30   60000         IT 2019-07-01   7000\n",
       "2       Charlie   35   55000    Finance 2018-03-22   8000\n",
       "3         David   28   45000         HR 2021-06-11   9000\n",
       "4           Eva   29   52000         IT 2020-11-23   4000\n",
       "5         Frank   33   49000    Finance 2017-05-09   2380\n",
       "6         Grace   24   47000  Marketing 2019-09-15   6893\n",
       "7        Hannah   31   61000         IT 2021-02-01   2611\n",
       "8           Ian   27   53000         HR 2018-12-30   4378\n",
       "9          Jack   26   48000  Marketing 2022-04-18   3782"
      ]
     },
     "execution_count": 29,
     "metadata": {},
     "output_type": "execute_result"
    }
   ],
   "source": [
    "df.rename(columns={'Name': 'Employee Name'}, inplace=True)\n",
    "df"
   ]
  },
  {
   "cell_type": "markdown",
   "id": "c8fa4262-7659-4a73-a3a4-245821e61906",
   "metadata": {},
   "source": [
    "**Removing Columns**"
   ]
  },
  {
   "cell_type": "code",
   "execution_count": 31,
   "id": "7c03e8ca-3788-40c3-a1e4-bad9179f70d7",
   "metadata": {},
   "outputs": [
    {
     "data": {
      "text/html": [
       "<div>\n",
       "<style scoped>\n",
       "    .dataframe tbody tr th:only-of-type {\n",
       "        vertical-align: middle;\n",
       "    }\n",
       "\n",
       "    .dataframe tbody tr th {\n",
       "        vertical-align: top;\n",
       "    }\n",
       "\n",
       "    .dataframe thead th {\n",
       "        text-align: right;\n",
       "    }\n",
       "</style>\n",
       "<table border=\"1\" class=\"dataframe\">\n",
       "  <thead>\n",
       "    <tr style=\"text-align: right;\">\n",
       "      <th></th>\n",
       "      <th>Employee Name</th>\n",
       "      <th>Age</th>\n",
       "      <th>Salary</th>\n",
       "      <th>Department</th>\n",
       "      <th>JoinDate</th>\n",
       "    </tr>\n",
       "  </thead>\n",
       "  <tbody>\n",
       "    <tr>\n",
       "      <th>0</th>\n",
       "      <td>Alice</td>\n",
       "      <td>25</td>\n",
       "      <td>50000</td>\n",
       "      <td>HR</td>\n",
       "      <td>2020-01-15</td>\n",
       "    </tr>\n",
       "    <tr>\n",
       "      <th>1</th>\n",
       "      <td>Bob</td>\n",
       "      <td>30</td>\n",
       "      <td>60000</td>\n",
       "      <td>IT</td>\n",
       "      <td>2019-07-01</td>\n",
       "    </tr>\n",
       "    <tr>\n",
       "      <th>2</th>\n",
       "      <td>Charlie</td>\n",
       "      <td>35</td>\n",
       "      <td>55000</td>\n",
       "      <td>Finance</td>\n",
       "      <td>2018-03-22</td>\n",
       "    </tr>\n",
       "    <tr>\n",
       "      <th>3</th>\n",
       "      <td>David</td>\n",
       "      <td>28</td>\n",
       "      <td>45000</td>\n",
       "      <td>HR</td>\n",
       "      <td>2021-06-11</td>\n",
       "    </tr>\n",
       "    <tr>\n",
       "      <th>4</th>\n",
       "      <td>Eva</td>\n",
       "      <td>29</td>\n",
       "      <td>52000</td>\n",
       "      <td>IT</td>\n",
       "      <td>2020-11-23</td>\n",
       "    </tr>\n",
       "    <tr>\n",
       "      <th>5</th>\n",
       "      <td>Frank</td>\n",
       "      <td>33</td>\n",
       "      <td>49000</td>\n",
       "      <td>Finance</td>\n",
       "      <td>2017-05-09</td>\n",
       "    </tr>\n",
       "    <tr>\n",
       "      <th>6</th>\n",
       "      <td>Grace</td>\n",
       "      <td>24</td>\n",
       "      <td>47000</td>\n",
       "      <td>Marketing</td>\n",
       "      <td>2019-09-15</td>\n",
       "    </tr>\n",
       "    <tr>\n",
       "      <th>7</th>\n",
       "      <td>Hannah</td>\n",
       "      <td>31</td>\n",
       "      <td>61000</td>\n",
       "      <td>IT</td>\n",
       "      <td>2021-02-01</td>\n",
       "    </tr>\n",
       "    <tr>\n",
       "      <th>8</th>\n",
       "      <td>Ian</td>\n",
       "      <td>27</td>\n",
       "      <td>53000</td>\n",
       "      <td>HR</td>\n",
       "      <td>2018-12-30</td>\n",
       "    </tr>\n",
       "    <tr>\n",
       "      <th>9</th>\n",
       "      <td>Jack</td>\n",
       "      <td>26</td>\n",
       "      <td>48000</td>\n",
       "      <td>Marketing</td>\n",
       "      <td>2022-04-18</td>\n",
       "    </tr>\n",
       "  </tbody>\n",
       "</table>\n",
       "</div>"
      ],
      "text/plain": [
       "  Employee Name  Age  Salary Department   JoinDate\n",
       "0         Alice   25   50000         HR 2020-01-15\n",
       "1           Bob   30   60000         IT 2019-07-01\n",
       "2       Charlie   35   55000    Finance 2018-03-22\n",
       "3         David   28   45000         HR 2021-06-11\n",
       "4           Eva   29   52000         IT 2020-11-23\n",
       "5         Frank   33   49000    Finance 2017-05-09\n",
       "6         Grace   24   47000  Marketing 2019-09-15\n",
       "7        Hannah   31   61000         IT 2021-02-01\n",
       "8           Ian   27   53000         HR 2018-12-30\n",
       "9          Jack   26   48000  Marketing 2022-04-18"
      ]
     },
     "execution_count": 31,
     "metadata": {},
     "output_type": "execute_result"
    }
   ],
   "source": [
    "df.drop(columns=['Bonus'], inplace=True)\n",
    "df"
   ]
  },
  {
   "cell_type": "markdown",
   "id": "d04bdaa2-8502-4e7b-aa30-b60af72ff324",
   "metadata": {},
   "source": [
    "**Updating Values**"
   ]
  },
  {
   "cell_type": "code",
   "execution_count": 33,
   "id": "4806b7d7-78d7-4098-9516-077c751eec56",
   "metadata": {},
   "outputs": [
    {
     "data": {
      "text/html": [
       "<div>\n",
       "<style scoped>\n",
       "    .dataframe tbody tr th:only-of-type {\n",
       "        vertical-align: middle;\n",
       "    }\n",
       "\n",
       "    .dataframe tbody tr th {\n",
       "        vertical-align: top;\n",
       "    }\n",
       "\n",
       "    .dataframe thead th {\n",
       "        text-align: right;\n",
       "    }\n",
       "</style>\n",
       "<table border=\"1\" class=\"dataframe\">\n",
       "  <thead>\n",
       "    <tr style=\"text-align: right;\">\n",
       "      <th></th>\n",
       "      <th>Employee Name</th>\n",
       "      <th>Age</th>\n",
       "      <th>Salary</th>\n",
       "      <th>Department</th>\n",
       "      <th>JoinDate</th>\n",
       "    </tr>\n",
       "  </thead>\n",
       "  <tbody>\n",
       "    <tr>\n",
       "      <th>0</th>\n",
       "      <td>Alice</td>\n",
       "      <td>26</td>\n",
       "      <td>50000</td>\n",
       "      <td>HR</td>\n",
       "      <td>2020-01-15</td>\n",
       "    </tr>\n",
       "    <tr>\n",
       "      <th>1</th>\n",
       "      <td>Bob</td>\n",
       "      <td>30</td>\n",
       "      <td>60000</td>\n",
       "      <td>IT</td>\n",
       "      <td>2019-07-01</td>\n",
       "    </tr>\n",
       "    <tr>\n",
       "      <th>2</th>\n",
       "      <td>Charlie</td>\n",
       "      <td>35</td>\n",
       "      <td>55000</td>\n",
       "      <td>Finance</td>\n",
       "      <td>2018-03-22</td>\n",
       "    </tr>\n",
       "    <tr>\n",
       "      <th>3</th>\n",
       "      <td>David</td>\n",
       "      <td>28</td>\n",
       "      <td>45000</td>\n",
       "      <td>HR</td>\n",
       "      <td>2021-06-11</td>\n",
       "    </tr>\n",
       "    <tr>\n",
       "      <th>4</th>\n",
       "      <td>Eva</td>\n",
       "      <td>29</td>\n",
       "      <td>52000</td>\n",
       "      <td>IT</td>\n",
       "      <td>2020-11-23</td>\n",
       "    </tr>\n",
       "    <tr>\n",
       "      <th>5</th>\n",
       "      <td>Frank</td>\n",
       "      <td>33</td>\n",
       "      <td>49000</td>\n",
       "      <td>Finance</td>\n",
       "      <td>2017-05-09</td>\n",
       "    </tr>\n",
       "    <tr>\n",
       "      <th>6</th>\n",
       "      <td>Grace</td>\n",
       "      <td>24</td>\n",
       "      <td>47000</td>\n",
       "      <td>Marketing</td>\n",
       "      <td>2019-09-15</td>\n",
       "    </tr>\n",
       "    <tr>\n",
       "      <th>7</th>\n",
       "      <td>Hannah</td>\n",
       "      <td>31</td>\n",
       "      <td>61000</td>\n",
       "      <td>IT</td>\n",
       "      <td>2021-02-01</td>\n",
       "    </tr>\n",
       "    <tr>\n",
       "      <th>8</th>\n",
       "      <td>Ian</td>\n",
       "      <td>27</td>\n",
       "      <td>53000</td>\n",
       "      <td>HR</td>\n",
       "      <td>2018-12-30</td>\n",
       "    </tr>\n",
       "    <tr>\n",
       "      <th>9</th>\n",
       "      <td>Jack</td>\n",
       "      <td>26</td>\n",
       "      <td>48000</td>\n",
       "      <td>Marketing</td>\n",
       "      <td>2022-04-18</td>\n",
       "    </tr>\n",
       "  </tbody>\n",
       "</table>\n",
       "</div>"
      ],
      "text/plain": [
       "  Employee Name  Age  Salary Department   JoinDate\n",
       "0         Alice   26   50000         HR 2020-01-15\n",
       "1           Bob   30   60000         IT 2019-07-01\n",
       "2       Charlie   35   55000    Finance 2018-03-22\n",
       "3         David   28   45000         HR 2021-06-11\n",
       "4           Eva   29   52000         IT 2020-11-23\n",
       "5         Frank   33   49000    Finance 2017-05-09\n",
       "6         Grace   24   47000  Marketing 2019-09-15\n",
       "7        Hannah   31   61000         IT 2021-02-01\n",
       "8           Ian   27   53000         HR 2018-12-30\n",
       "9          Jack   26   48000  Marketing 2022-04-18"
      ]
     },
     "execution_count": 33,
     "metadata": {},
     "output_type": "execute_result"
    }
   ],
   "source": [
    "df.loc[0, 'Age'] = 26\n",
    "df"
   ]
  },
  {
   "cell_type": "markdown",
   "id": "81002494-b16a-480d-beb3-449956803332",
   "metadata": {},
   "source": [
    "### 4. Handling Missing Data"
   ]
  },
  {
   "cell_type": "markdown",
   "id": "a1346986-a61f-48fa-9309-614d153baedb",
   "metadata": {},
   "source": [
    "**Detecting Missing Values**"
   ]
  },
  {
   "cell_type": "code",
   "execution_count": 36,
   "id": "2e05f540-32ea-41b5-8c68-fc211bf472ee",
   "metadata": {},
   "outputs": [
    {
     "data": {
      "text/plain": [
       "Employee Name    0\n",
       "Age              0\n",
       "Salary           0\n",
       "Department       0\n",
       "JoinDate         0\n",
       "dtype: int64"
      ]
     },
     "execution_count": 36,
     "metadata": {},
     "output_type": "execute_result"
    }
   ],
   "source": [
    "# Check for missing values\n",
    "df.isnull()\n",
    "\n",
    "# Count missing values\n",
    "df.isnull().sum()"
   ]
  },
  {
   "cell_type": "markdown",
   "id": "1951c279-0063-4939-95c0-7c84973849f4",
   "metadata": {},
   "source": [
    "**Filling Missing Values**"
   ]
  },
  {
   "cell_type": "code",
   "execution_count": 38,
   "id": "0ba3bc2e-0990-4ec8-8173-daa57ab4d517",
   "metadata": {},
   "outputs": [
    {
     "data": {
      "text/plain": [
       "0    26\n",
       "1    30\n",
       "2    35\n",
       "3    28\n",
       "4    29\n",
       "5    33\n",
       "6    24\n",
       "7    31\n",
       "8    27\n",
       "9    26\n",
       "Name: Age, dtype: int64"
      ]
     },
     "execution_count": 38,
     "metadata": {},
     "output_type": "execute_result"
    }
   ],
   "source": [
    "df['Age'].fillna(30)"
   ]
  },
  {
   "cell_type": "markdown",
   "id": "c8fdccc1-08c9-4cc9-be4c-1dc449423b9c",
   "metadata": {},
   "source": [
    "**Dropping Missing Data**"
   ]
  },
  {
   "cell_type": "code",
   "execution_count": 40,
   "id": "c4a68d92-47e9-4e02-a4f8-b2f30e363bb9",
   "metadata": {},
   "outputs": [],
   "source": [
    "df.dropna(inplace=True)"
   ]
  },
  {
   "cell_type": "markdown",
   "id": "e1aaa853-f520-4366-9a0e-fc94fdb5804f",
   "metadata": {},
   "source": [
    "### 5. Data Manipulation"
   ]
  },
  {
   "cell_type": "markdown",
   "id": "c873cc0e-bf05-4ecd-a39c-80a6d6d4297c",
   "metadata": {},
   "source": [
    "**Sorting**"
   ]
  },
  {
   "cell_type": "code",
   "execution_count": 43,
   "id": "b2fd68f0-26eb-4f85-8445-4c9b2f8c2ded",
   "metadata": {},
   "outputs": [
    {
     "data": {
      "text/html": [
       "<div>\n",
       "<style scoped>\n",
       "    .dataframe tbody tr th:only-of-type {\n",
       "        vertical-align: middle;\n",
       "    }\n",
       "\n",
       "    .dataframe tbody tr th {\n",
       "        vertical-align: top;\n",
       "    }\n",
       "\n",
       "    .dataframe thead th {\n",
       "        text-align: right;\n",
       "    }\n",
       "</style>\n",
       "<table border=\"1\" class=\"dataframe\">\n",
       "  <thead>\n",
       "    <tr style=\"text-align: right;\">\n",
       "      <th></th>\n",
       "      <th>Employee Name</th>\n",
       "      <th>Age</th>\n",
       "      <th>Salary</th>\n",
       "      <th>Department</th>\n",
       "      <th>JoinDate</th>\n",
       "    </tr>\n",
       "  </thead>\n",
       "  <tbody>\n",
       "    <tr>\n",
       "      <th>6</th>\n",
       "      <td>Grace</td>\n",
       "      <td>24</td>\n",
       "      <td>47000</td>\n",
       "      <td>Marketing</td>\n",
       "      <td>2019-09-15</td>\n",
       "    </tr>\n",
       "    <tr>\n",
       "      <th>0</th>\n",
       "      <td>Alice</td>\n",
       "      <td>26</td>\n",
       "      <td>50000</td>\n",
       "      <td>HR</td>\n",
       "      <td>2020-01-15</td>\n",
       "    </tr>\n",
       "    <tr>\n",
       "      <th>9</th>\n",
       "      <td>Jack</td>\n",
       "      <td>26</td>\n",
       "      <td>48000</td>\n",
       "      <td>Marketing</td>\n",
       "      <td>2022-04-18</td>\n",
       "    </tr>\n",
       "    <tr>\n",
       "      <th>8</th>\n",
       "      <td>Ian</td>\n",
       "      <td>27</td>\n",
       "      <td>53000</td>\n",
       "      <td>HR</td>\n",
       "      <td>2018-12-30</td>\n",
       "    </tr>\n",
       "    <tr>\n",
       "      <th>3</th>\n",
       "      <td>David</td>\n",
       "      <td>28</td>\n",
       "      <td>45000</td>\n",
       "      <td>HR</td>\n",
       "      <td>2021-06-11</td>\n",
       "    </tr>\n",
       "    <tr>\n",
       "      <th>4</th>\n",
       "      <td>Eva</td>\n",
       "      <td>29</td>\n",
       "      <td>52000</td>\n",
       "      <td>IT</td>\n",
       "      <td>2020-11-23</td>\n",
       "    </tr>\n",
       "    <tr>\n",
       "      <th>1</th>\n",
       "      <td>Bob</td>\n",
       "      <td>30</td>\n",
       "      <td>60000</td>\n",
       "      <td>IT</td>\n",
       "      <td>2019-07-01</td>\n",
       "    </tr>\n",
       "    <tr>\n",
       "      <th>7</th>\n",
       "      <td>Hannah</td>\n",
       "      <td>31</td>\n",
       "      <td>61000</td>\n",
       "      <td>IT</td>\n",
       "      <td>2021-02-01</td>\n",
       "    </tr>\n",
       "    <tr>\n",
       "      <th>5</th>\n",
       "      <td>Frank</td>\n",
       "      <td>33</td>\n",
       "      <td>49000</td>\n",
       "      <td>Finance</td>\n",
       "      <td>2017-05-09</td>\n",
       "    </tr>\n",
       "    <tr>\n",
       "      <th>2</th>\n",
       "      <td>Charlie</td>\n",
       "      <td>35</td>\n",
       "      <td>55000</td>\n",
       "      <td>Finance</td>\n",
       "      <td>2018-03-22</td>\n",
       "    </tr>\n",
       "  </tbody>\n",
       "</table>\n",
       "</div>"
      ],
      "text/plain": [
       "  Employee Name  Age  Salary Department   JoinDate\n",
       "6         Grace   24   47000  Marketing 2019-09-15\n",
       "0         Alice   26   50000         HR 2020-01-15\n",
       "9          Jack   26   48000  Marketing 2022-04-18\n",
       "8           Ian   27   53000         HR 2018-12-30\n",
       "3         David   28   45000         HR 2021-06-11\n",
       "4           Eva   29   52000         IT 2020-11-23\n",
       "1           Bob   30   60000         IT 2019-07-01\n",
       "7        Hannah   31   61000         IT 2021-02-01\n",
       "5         Frank   33   49000    Finance 2017-05-09\n",
       "2       Charlie   35   55000    Finance 2018-03-22"
      ]
     },
     "execution_count": 43,
     "metadata": {},
     "output_type": "execute_result"
    }
   ],
   "source": [
    "# Sort by a single column\n",
    "df.sort_values('Age', ascending=False, inplace=True)\n",
    "\n",
    "# Sort by multiple columns\n",
    "df.sort_values(['Age', 'Salary'], ascending=[True, False], inplace=True)\n",
    "df"
   ]
  },
  {
   "cell_type": "markdown",
   "id": "b555764a-887a-4216-80e1-4d1b632c3db4",
   "metadata": {},
   "source": [
    "**Filtering**"
   ]
  },
  {
   "cell_type": "code",
   "execution_count": 45,
   "id": "bfa548e1-fc47-455a-aa43-5eda3d837c0d",
   "metadata": {},
   "outputs": [
    {
     "data": {
      "text/html": [
       "<div>\n",
       "<style scoped>\n",
       "    .dataframe tbody tr th:only-of-type {\n",
       "        vertical-align: middle;\n",
       "    }\n",
       "\n",
       "    .dataframe tbody tr th {\n",
       "        vertical-align: top;\n",
       "    }\n",
       "\n",
       "    .dataframe thead th {\n",
       "        text-align: right;\n",
       "    }\n",
       "</style>\n",
       "<table border=\"1\" class=\"dataframe\">\n",
       "  <thead>\n",
       "    <tr style=\"text-align: right;\">\n",
       "      <th></th>\n",
       "      <th>Employee Name</th>\n",
       "      <th>Age</th>\n",
       "      <th>Salary</th>\n",
       "      <th>Department</th>\n",
       "      <th>JoinDate</th>\n",
       "    </tr>\n",
       "  </thead>\n",
       "  <tbody>\n",
       "    <tr>\n",
       "      <th>6</th>\n",
       "      <td>Grace</td>\n",
       "      <td>24</td>\n",
       "      <td>47000</td>\n",
       "      <td>Marketing</td>\n",
       "      <td>2019-09-15</td>\n",
       "    </tr>\n",
       "    <tr>\n",
       "      <th>0</th>\n",
       "      <td>Alice</td>\n",
       "      <td>26</td>\n",
       "      <td>50000</td>\n",
       "      <td>HR</td>\n",
       "      <td>2020-01-15</td>\n",
       "    </tr>\n",
       "    <tr>\n",
       "      <th>9</th>\n",
       "      <td>Jack</td>\n",
       "      <td>26</td>\n",
       "      <td>48000</td>\n",
       "      <td>Marketing</td>\n",
       "      <td>2022-04-18</td>\n",
       "    </tr>\n",
       "    <tr>\n",
       "      <th>8</th>\n",
       "      <td>Ian</td>\n",
       "      <td>27</td>\n",
       "      <td>53000</td>\n",
       "      <td>HR</td>\n",
       "      <td>2018-12-30</td>\n",
       "    </tr>\n",
       "    <tr>\n",
       "      <th>3</th>\n",
       "      <td>David</td>\n",
       "      <td>28</td>\n",
       "      <td>45000</td>\n",
       "      <td>HR</td>\n",
       "      <td>2021-06-11</td>\n",
       "    </tr>\n",
       "    <tr>\n",
       "      <th>4</th>\n",
       "      <td>Eva</td>\n",
       "      <td>29</td>\n",
       "      <td>52000</td>\n",
       "      <td>IT</td>\n",
       "      <td>2020-11-23</td>\n",
       "    </tr>\n",
       "    <tr>\n",
       "      <th>1</th>\n",
       "      <td>Bob</td>\n",
       "      <td>30</td>\n",
       "      <td>60000</td>\n",
       "      <td>IT</td>\n",
       "      <td>2019-07-01</td>\n",
       "    </tr>\n",
       "    <tr>\n",
       "      <th>7</th>\n",
       "      <td>Hannah</td>\n",
       "      <td>31</td>\n",
       "      <td>61000</td>\n",
       "      <td>IT</td>\n",
       "      <td>2021-02-01</td>\n",
       "    </tr>\n",
       "    <tr>\n",
       "      <th>5</th>\n",
       "      <td>Frank</td>\n",
       "      <td>33</td>\n",
       "      <td>49000</td>\n",
       "      <td>Finance</td>\n",
       "      <td>2017-05-09</td>\n",
       "    </tr>\n",
       "    <tr>\n",
       "      <th>2</th>\n",
       "      <td>Charlie</td>\n",
       "      <td>35</td>\n",
       "      <td>55000</td>\n",
       "      <td>Finance</td>\n",
       "      <td>2018-03-22</td>\n",
       "    </tr>\n",
       "  </tbody>\n",
       "</table>\n",
       "</div>"
      ],
      "text/plain": [
       "  Employee Name  Age  Salary Department   JoinDate\n",
       "6         Grace   24   47000  Marketing 2019-09-15\n",
       "0         Alice   26   50000         HR 2020-01-15\n",
       "9          Jack   26   48000  Marketing 2022-04-18\n",
       "8           Ian   27   53000         HR 2018-12-30\n",
       "3         David   28   45000         HR 2021-06-11\n",
       "4           Eva   29   52000         IT 2020-11-23\n",
       "1           Bob   30   60000         IT 2019-07-01\n",
       "7        Hannah   31   61000         IT 2021-02-01\n",
       "5         Frank   33   49000    Finance 2017-05-09\n",
       "2       Charlie   35   55000    Finance 2018-03-22"
      ]
     },
     "execution_count": 45,
     "metadata": {},
     "output_type": "execute_result"
    }
   ],
   "source": [
    "# Filter rows based on a condition\n",
    "filtered_df = df[df['Age'] > 30]\n",
    "\n",
    "# Filter rows with multiple conditions\n",
    "filtered_df = df[(df['Age'] > 25) & (df['Salary'] > 55000)]\n",
    "df"
   ]
  },
  {
   "cell_type": "markdown",
   "id": "48c00dac-a528-4a9a-8cf8-a686ab082acd",
   "metadata": {},
   "source": [
    "## Data Visualization"
   ]
  },
  {
   "cell_type": "markdown",
   "id": "afc2f7d3-e132-47d8-9044-c047175a5a71",
   "metadata": {},
   "source": [
    "**Basic Plotting**"
   ]
  },
  {
   "cell_type": "code",
   "execution_count": 48,
   "id": "17240c09-ae3e-41f9-98f9-a7ce2f35c3cd",
   "metadata": {},
   "outputs": [
    {
     "data": {
      "text/plain": [
       "<Axes: ylabel='Salary'>"
      ]
     },
     "execution_count": 48,
     "metadata": {},
     "output_type": "execute_result"
    },
    {
     "data": {
      "image/png": "[encoded data removed]",
      "text/plain": [
       "<Figure size 640x480 with 1 Axes>"
      ]
     },
     "metadata": {},
     "output_type": "display_data"
    },
    {
     "data": {
      "image/png": "[encoded data removed]",
      "text/plain": [
       "<Figure size 640x480 with 1 Axes>"
      ]
     },
     "metadata": {},
     "output_type": "display_data"
    },
    {
     "data": {
      "image/png": "[encoded data removed]",
      "text/plain": [
       "<Figure size 640x480 with 1 Axes>"
      ]
     },
     "metadata": {},
     "output_type": "display_data"
    }
   ],
   "source": [
    "# Line plot\n",
    "df['Salary'].plot(kind='line')\n",
    "\n",
    "# Bar plot\n",
    "df.plot(kind='bar', x='Employee Name', y='Salary')\n",
    "\n",
    "# Bar plot\n",
    "df.plot(kind='pie', x='Employee Name', y='Salary')"
   ]
  },
  {
   "cell_type": "code",
   "execution_count": 49,
   "id": "44c3379e-ff68-43f2-98da-bcc823419977",
   "metadata": {},
   "outputs": [
    {
     "data": {
      "image/png": "[encoded data removed]",
      "text/plain": [
       "<Figure size 640x480 with 1 Axes>"
      ]
     },
     "metadata": {},
     "output_type": "display_data"
    },
    {
     "data": {
      "image/png": "[encoded data removed]",
      "text/plain": [
       "<Figure size 640x480 with 1 Axes>"
      ]
     },
     "metadata": {},
     "output_type": "display_data"
    }
   ],
   "source": [
    "import matplotlib.pyplot as plt\n",
    "\n",
    "# Bar plot for Salaries by Name\n",
    "df.plot(kind='bar', x='Employee Name', y='Salary', title='Salary by Employee')\n",
    "plt.show()\n",
    "\n",
    "# Histogram for Age distribution\n",
    "df['Age'].plot(kind='hist', title='Age Distribution')\n",
    "plt.show()\n"
   ]
  },
  {
   "cell_type": "markdown",
   "id": "5022a4a1-f5de-4c40-8c1f-8038f887a553",
   "metadata": {},
   "source": [
    "**Other Useful Functions**"
   ]
  },
  {
   "cell_type": "code",
   "execution_count": 51,
   "id": "f0e7465c-c5db-4ad6-b82f-5edc15e16e80",
   "metadata": {},
   "outputs": [
    {
     "name": "stdout",
     "output_type": "stream",
     "text": [
      "[24 26 27 28 29 30 31 33 35]\n",
      "Age\n",
      "26    2\n",
      "24    1\n",
      "27    1\n",
      "28    1\n",
      "29    1\n",
      "30    1\n",
      "31    1\n",
      "33    1\n",
      "35    1\n",
      "Name: count, dtype: int64\n"
     ]
    }
   ],
   "source": [
    "# Get unique values in a column\n",
    "unique_values = df['Age'].unique()\n",
    "print(unique_values)\n",
    "# Count unique values\n",
    "value_counts = df['Age'].value_counts()\n",
    "print(value_counts)\n",
    "# Apply a custom function to a column\n",
    "df['Bonus'] = df['Salary'].apply(lambda x: x * 0.1)"
   ]
  }
 ],
 "metadata": {
  "kernelspec": {
   "display_name": "Python 3 (ipykernel)",
   "language": "python",
   "name": "python3"
  },
  "language_info": {
   "codemirror_mode": {
    "name": "ipython",
    "version": 3
   },
   "file_extension": ".py",
   "mimetype": "text/x-python",
   "name": "python",
   "nbconvert_exporter": "python",
   "pygments_lexer": "ipython3",
   "version": "3.12.4"
  }
 },
 "nbformat": 4,
 "nbformat_minor": 5
}
